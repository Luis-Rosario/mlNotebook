{
 "cells": [
  {
   "cell_type": "markdown",
   "metadata": {},
   "source": [
    "## Prediction of diabetes based on certain diagnostic measurements using Tensorflow"
   ]
  },
  {
   "cell_type": "markdown",
   "metadata": {},
   "source": [
    "### Setup"
   ]
  },
  {
   "cell_type": "code",
   "execution_count": 1,
   "metadata": {},
   "outputs": [],
   "source": [
    "import tensorflow as tf;\n",
    "import numpy as np;\n",
    "import matplotlib.pyplot as plt\n",
    "import pandas as pd\n",
    "\n",
    "from tensorflow.keras.optimizers import SGD,Adam"
   ]
  },
  {
   "cell_type": "markdown",
   "metadata": {},
   "source": [
    "### The diabetes dataset"
   ]
  },
  {
   "cell_type": "markdown",
   "metadata": {},
   "source": [
    "This dataset consists of several medical predictor variables and one target variable, **Outcome** which represents if the given women has diabetes. There are 8 predictor variables which are **Number of pregnancies**,**Plasma glucose concentration** (mg dL−1),**Blood pressure** (mm Hg), **Skin thickness** (mm), **2-Hour serum insulin** (mu U/ml), **Body mass index**, **Diabetes pedigree function** and **Age**. \n",
    "\n",
    "Our dataset contains **768 entries** of data and our main goal is based on the given features to **classify if a given woman has diabetes or not**. "
   ]
  },
  {
   "cell_type": "code",
   "execution_count": 2,
   "metadata": {
    "scrolled": true
   },
   "outputs": [
    {
     "name": "stdout",
     "output_type": "stream",
     "text": [
      "       Pregnancies     Glucose  BloodPressure  SkinThickness     Insulin  \\\n",
      "count   768.000000  768.000000     768.000000     768.000000  768.000000   \n",
      "mean      3.845052  120.894531      69.105469      20.536458   79.799479   \n",
      "std       3.369578   31.972618      19.355807      15.952218  115.244002   \n",
      "min       0.000000    0.000000       0.000000       0.000000    0.000000   \n",
      "25%       1.000000   99.000000      62.000000       0.000000    0.000000   \n",
      "50%       3.000000  117.000000      72.000000      23.000000   30.500000   \n",
      "75%       6.000000  140.250000      80.000000      32.000000  127.250000   \n",
      "max      17.000000  199.000000     122.000000      99.000000  846.000000   \n",
      "\n",
      "              BMI  DiabetesPedigreeFunction         Age     Outcome  \n",
      "count  768.000000                768.000000  768.000000  768.000000  \n",
      "mean    31.992578                  0.471876   33.240885    0.348958  \n",
      "std      7.884160                  0.331329   11.760232    0.476951  \n",
      "min      0.000000                  0.078000   21.000000    0.000000  \n",
      "25%     27.300000                  0.243750   24.000000    0.000000  \n",
      "50%     32.000000                  0.372500   29.000000    0.000000  \n",
      "75%     36.600000                  0.626250   41.000000    1.000000  \n",
      "max     67.100000                  2.420000   81.000000    1.000000  \n"
     ]
    }
   ],
   "source": [
    "dataset = pd.read_csv('diabetes.csv')\n",
    "\n",
    "print(dataset.describe())"
   ]
  },
  {
   "cell_type": "code",
   "execution_count": 3,
   "metadata": {},
   "outputs": [
    {
     "name": "stdout",
     "output_type": "stream",
     "text": [
      "Examples:\n",
      "    Total: 768\n",
      "    Positive: 268 (34.90% of total)\n",
      "\n"
     ]
    }
   ],
   "source": [
    "neg, pos = np.bincount(dataset['Outcome'])\n",
    "total = neg + pos\n",
    "print('Examples:\\n    Total: {}\\n    Positive: {} ({:.2f}% of total)\\n'.format(\n",
    "    total, pos, 100 * pos / total))"
   ]
  },
  {
   "cell_type": "markdown",
   "metadata": {},
   "source": [
    "After analysing our data we can see that there is a big dispertion in values and scales so to facilitate training we first need to **standardize our data** as this is useful to prevent our parameters from varying over a too broad range of values.\n",
    "\n",
    "\n",
    "Then we need to separate it in a **training set** (80% of data) to train our model, a **validation set** (20% of our model) to monitor how the network is classifying examples outside the training set."
   ]
  },
  {
   "cell_type": "code",
   "execution_count": 4,
   "metadata": {},
   "outputs": [],
   "source": [
    "data = dataset.to_numpy()\n",
    "np.random.shuffle(data)\n",
    "\n",
    "Y = data[:,[8]]\n",
    "X = data[:,0:8]\n",
    "\n",
    "#standardize features\n",
    "means = np.mean(X,axis=0)\n",
    "stds = np.std(X,axis=0)\n",
    "X = (X-means)/stds\n",
    "\n",
    "xTrain = X[:615,:]  #615‬ ~80% data\n",
    "yTrain = Y[:615]\n",
    "\n",
    "xValid = X[615:] #153 20% data\n",
    "yValid = Y[615:]\n"
   ]
  },
  {
   "cell_type": "markdown",
   "metadata": {},
   "source": [
    "### Tensorflow implementation"
   ]
  },
  {
   "cell_type": "markdown",
   "metadata": {},
   "source": [
    "We start by implementing our model and initializing our weights and bias variables over the layers in our network. In this case we will start by implementing a 3 layer network a input layer with 8 neurons, one for each input feature, a 16 neuron hidden layer and an output layer consisting of one neuron as we are trying to solve a binary classification problem only one output value is needed. There is no particular method on how to decide how many neurons the hidden layers should have, so only by trying different model networks we can see which one has the best performance, but for this tutorial we will stick with this model.\n",
    "\n",
    "Our weights will be initialized close to 0, drawn at random from a Gaussian distribution with mean zero and stdev 1/numb neurons (so that the weights dont spread out as much), to guarentee that different neurons start with different combinations of parameters. We will start with bias at 0.\n"
   ]
  },
  {
   "cell_type": "code",
   "execution_count": 5,
   "metadata": {},
   "outputs": [],
   "source": [
    "def layer(inputs,neurons):\n",
    "   weights = tf.Variable(tf.random.normal((inputs.shape[1],neurons), stddev = 1/neurons )) #initialize weights\n",
    "   bias = tf.Variable(tf.zeros([neurons])) #initialize bias at 0\n",
    "   return weights,bias\n",
    "\n",
    "def create_network(X):\n",
    "    network = []\n",
    "    variables = []\n",
    "    previous = X\n",
    " \n",
    "    layers = [8,16,1] \n",
    " \n",
    "    for ix, neurons in enumerate(layers):\n",
    "        weights,bias = layer(previous,neurons)\n",
    "        network.append((weights,bias))\n",
    "        variables.extend((weights,bias))\n",
    "        previous = weights\n",
    "   \n",
    "    return network, variables\n"
   ]
  },
  {
   "cell_type": "markdown",
   "metadata": {},
   "source": [
    "To finish the implementation of our model we need to choose our loss and activation functions for each layer. In this case as we are solving a binary classification problem so output neuron will have a sigmoid activation function (gives the probability of value being true: belonging to class 1), so our loss function which result we intend to minimize will be a sigmoid_cross_entropy function that receives the linear output of the network (calculated by logit function). As far as our hidden layer activation function, we could use any non-saturating function like any RELU variant to prevent the vanishing of gradients, in this case we use leaky_Relu, which also has the benifit of solving relu's problem of the neurons dying when the gradiens are very close to 0 and would no longer change.\n",
    "\n",
    "Our grad function will be used during training to track our gradients and feed them to our optimizer of choice so that it can adjust our variables (weights and bias) in order to minimize our logistic loss.\n",
    "\n",
    "The predict function feeds each layer's neuron activation values to the subsequent layer until it reaches the output layer where it applies the sigmoid activation to get our intended prediction value, in our case the probability of value being true: belonging to class 1."
   ]
  },
  {
   "cell_type": "code",
   "execution_count": 6,
   "metadata": {},
   "outputs": [],
   "source": [
    "def logits(X):\n",
    "    net = X\n",
    "    for weights, bias in network[:-1]:\n",
    "        net = tf.add(tf.matmul(net, weights), bias)\n",
    "        net = tf.nn.leaky_relu(net)\n",
    "    weights, bias = network[-1]\n",
    "    net = tf.add(tf.matmul(net, weights), bias)\n",
    "    return net\n",
    "\n",
    "def logistic_loss(logits,labels):\n",
    "    cost = tf.nn.sigmoid_cross_entropy_with_logits(logits=logits, labels=labels)\n",
    "    return cost\n",
    "\n",
    "def predict(X):\n",
    "    net = X\n",
    "    for weights,bias  in network[:-1]:\n",
    "        net = tf.add(tf.matmul(net, weights), bias)\n",
    "        net = tf.nn.leaky_relu(net)\n",
    "    weights,bias = network[-1]\n",
    "    net = tf.add(tf.matmul(net, weights), bias)\n",
    "    return tf.nn.sigmoid(net)\n",
    "\n",
    "def grad(X, y,optimizer):\n",
    "    with tf.GradientTape() as tape:\n",
    "        net_out = logits(X)\n",
    "        loss_val = logistic_loss(net_out,y)\n",
    "    gradients = tape.gradient(loss_val, variables)\n",
    "    optimizer.apply_gradients(zip(gradients, variables))\n"
   ]
  },
  {
   "cell_type": "markdown",
   "metadata": {},
   "source": [
    "The training_stats function is a way to centralize the calculation of both the **training and validation errors**, which represent how  and far off our predictions are from the real values, and the **validation accuracy** which represents how accurate our predictions inside a given set, in this case inside our validation set (ex. 0,8 translates to 80% of values being accurately predicted)"
   ]
  },
  {
   "cell_type": "code",
   "execution_count": 7,
   "metadata": {},
   "outputs": [],
   "source": [
    "def training_stats(xTrain,xValid,train_pred, yTrain, valid_pred, yValid):\n",
    "    \n",
    "    logits_train = logits(xTrain)\n",
    "    logits_valid = logits(xValid)\n",
    "    train_error = tf.reduce_mean(logistic_loss(logits_train,tf.constant(yTrain.astype(np.float32))))\n",
    "    valid_error = tf.reduce_mean(logistic_loss(logits_valid,tf.constant(yValid.astype(np.float32))))\n",
    "    \n",
    "    correct_pred = tf.equal(tf.round(valid_pred), yValid)\n",
    "    accuracy = tf.reduce_mean(tf.cast(correct_pred, tf.float32))\n",
    "    \n",
    "    return train_error,valid_error,accuracy"
   ]
  },
  {
   "cell_type": "markdown",
   "metadata": {},
   "source": [
    "Now that we have our model defined we can start training it, first we just need to select and optimizer and complementary parameters. Soo to start we will use Stochastic gradient descent with a learing rate of 0.005 (determines the step size at each iteration while moving toward a minimum of a loss function. A big learing step acelarates training but might have convergence problems, while a small learning rate will improve the classification of the model at the cost of a longer training duration) , momentum 0,9, a batch size of 32 on 100 epochs (number of training cycles)."
   ]
  },
  {
   "cell_type": "code",
   "execution_count": 8,
   "metadata": {},
   "outputs": [],
   "source": [
    "network, variables =create_network(xTrain)\n",
    "\n",
    "learning_rate = 0.005\n",
    "momentum = 0.9\n",
    "batch_size = 32\n",
    "batches_per_epoch = xTrain.shape[0]//batch_size\n",
    "epochs = 100\n",
    "\n",
    "optimizer = tf.keras.optimizers.SGD(learning_rate=learning_rate,momentum=momentum)"
   ]
  },
  {
   "cell_type": "markdown",
   "metadata": {},
   "source": [
    "During each epoch we run through our batches, randomizing the values of the training set so that the learing pattern wont repeat themselfs, and we calculate the loss function optimizing our parameters. After we run through our batches we calculate the loss values on each the training set and on the validation set (more accurate representation of error as the data wasnt used to optimize our gradients), we also calculate the accuracy on the validation set to have a view on how well our network is predicting examples (value betweem 0 and 1 indicating how much of our values were correctly predicted beeing 1 = 100%). We repeat this proces through all epochs"
   ]
  },
  {
   "cell_type": "code",
   "execution_count": 9,
   "metadata": {},
   "outputs": [
    {
     "name": "stdout",
     "output_type": "stream",
     "text": [
      "loss: 0.36911094188690186, val_loss, 0.6141009330749512, val_acccuracy 0.7124183177947998\n"
     ]
    }
   ],
   "source": [
    "train_errors= []\n",
    "valid_errors = []\n",
    "accuracy_values = []\n",
    "for epoch in range(epochs):\n",
    "    shuffled = np.arange(len(yTrain))\n",
    "    np.random.shuffle(shuffled)\n",
    "    \n",
    "    for batch_num in range(batches_per_epoch):\n",
    "            start = batch_num*batch_size\n",
    "            batch_xs = tf.constant(xTrain[shuffled[start:start+batch_size],:].astype(np.float32))\n",
    "            batch_ys = tf.constant(yTrain[shuffled[start:start+batch_size]].astype(np.float32))\n",
    "            grad(batch_xs, batch_ys, optimizer)\n",
    "            \n",
    "    \n",
    "    y_pred =predict(tf.constant(xTrain.astype(np.float32)))\n",
    "    y_pred_valid =predict(tf.constant(xValid.astype(np.float32)))\n",
    "   \n",
    "    train_error, valid_error, accuracy = training_stats(tf.constant(xTrain.astype(np.float32)),\n",
    "                                                        tf.constant(xValid.astype(np.float32)),\n",
    "                                                        y_pred,\n",
    "                                                        yTrain,\n",
    "                                                        y_pred_valid,\n",
    "                                                        yValid)\n",
    "    train_errors.append(train_error)\n",
    "    valid_errors.append(valid_error)\n",
    "    accuracy_values.append(accuracy)\n",
    "    \n",
    "                    \n",
    "print('loss: {}, val_loss, {}, val_acccuracy {}'.format(train_error,valid_error,accuracy))"
   ]
  },
  {
   "cell_type": "code",
   "execution_count": 10,
   "metadata": {},
   "outputs": [
    {
     "data": {
      "image/png": "[encoded data removed]",
      "text/plain": [
       "<Figure size 432x288 with 1 Axes>"
      ]
     },
     "metadata": {
      "needs_background": "light"
     },
     "output_type": "display_data"
    },
    {
     "data": {
      "image/png": "[encoded data removed]",
      "text/plain": [
       "<Figure size 432x288 with 1 Axes>"
      ]
     },
     "metadata": {
      "needs_background": "light"
     },
     "output_type": "display_data"
    }
   ],
   "source": [
    "plt.plot(train_errors)\n",
    "plt.plot(valid_errors)\n",
    "plt.title('Model loss')\n",
    "plt.ylabel('Loss')\n",
    "plt.xlabel('Epoch')\n",
    "plt.legend(['Train', 'Validation'], loc='upper right')\n",
    "plt.show()\n",
    "\n",
    "\n",
    "plt.plot(accuracy_values)\n",
    "plt.title('Model accuracy')\n",
    "plt.ylabel('Validation accuracy')\n",
    "plt.xlabel('Epoch')\n",
    "\n",
    "plt.show()"
   ]
  },
  {
   "cell_type": "markdown",
   "metadata": {},
   "source": [
    "Looking at the both the validation error and the training error we can identify many oscilations in values, this might suggests a problem with the traing parameters or optimizer. Another thing we can identify is that around epoch 30 to the end the validation error started to increase suggesting overfitting of our model, to solve that we can just stop training early around that epoch and in that way preventing overfitting. So to solve that let's change our optimizer to the Adam optimizer that doesn't require a learning rate value or momentum, as it combines combines several values of these parameter using an exponentially decaying average over the previous gradient. Lets also reduce the number of epochs to 25."
   ]
  },
  {
   "cell_type": "code",
   "execution_count": 11,
   "metadata": {},
   "outputs": [],
   "source": [
    "network, variables =create_network(xTrain)\n",
    "batch_size = 32\n",
    "batches_per_epoch = xTrain.shape[0]//batch_size\n",
    "epochs = 25\n",
    "\n",
    "optimizer = tf.keras.optimizers.Adam()"
   ]
  },
  {
   "cell_type": "code",
   "execution_count": 12,
   "metadata": {},
   "outputs": [
    {
     "name": "stdout",
     "output_type": "stream",
     "text": [
      "loss: 0.4387410879135132, val_loss, 0.5539524555206299, val_acccuracy 0.7712418437004089\n"
     ]
    }
   ],
   "source": [
    "train_errors= []\n",
    "valid_errors = []\n",
    "accuracy_values = []\n",
    "for epoch in range(epochs):\n",
    "    shuffled = np.arange(len(yTrain))\n",
    "    np.random.shuffle(shuffled)\n",
    "    \n",
    "    for batch_num in range(batches_per_epoch):\n",
    "            start = batch_num*batch_size\n",
    "            batch_xs = tf.constant(xTrain[shuffled[start:start+batch_size],:].astype(np.float32))\n",
    "            batch_ys = tf.constant(yTrain[shuffled[start:start+batch_size]].astype(np.float32))\n",
    "            grad(batch_xs, batch_ys, optimizer)\n",
    "            \n",
    "    \n",
    "    y_pred =predict(tf.constant(xTrain.astype(np.float32)))\n",
    "    y_pred_valid =predict(tf.constant(xValid.astype(np.float32)))\n",
    "   \n",
    "    train_error, valid_error, accuracy = training_stats(tf.constant(xTrain.astype(np.float32)),\n",
    "                                                        tf.constant(xValid.astype(np.float32)),\n",
    "                                                        y_pred,\n",
    "                                                        yTrain,\n",
    "                                                        y_pred_valid,\n",
    "                                                        yValid)\n",
    "    train_errors.append(train_error)\n",
    "    valid_errors.append(valid_error)\n",
    "    accuracy_values.append(accuracy)\n",
    "    \n",
    "                    \n",
    "print('loss: {}, val_loss, {}, val_acccuracy {}'.format(train_error,valid_error,accuracy))"
   ]
  },
  {
   "cell_type": "code",
   "execution_count": 13,
   "metadata": {},
   "outputs": [
    {
     "data": {
      "image/png": "[encoded data removed]",
      "text/plain": [
       "<Figure size 432x288 with 1 Axes>"
      ]
     },
     "metadata": {
      "needs_background": "light"
     },
     "output_type": "display_data"
    },
    {
     "data": {
      "image/png": "[encoded data removed]",
      "text/plain": [
       "<Figure size 432x288 with 1 Axes>"
      ]
     },
     "metadata": {
      "needs_background": "light"
     },
     "output_type": "display_data"
    }
   ],
   "source": [
    "plt.plot(train_errors)\n",
    "plt.plot(valid_errors)\n",
    "plt.title('Model loss')\n",
    "plt.ylabel('Loss')\n",
    "plt.xlabel('Epoch')\n",
    "plt.legend(['Train', 'Validation'], loc='upper right')\n",
    "plt.show()\n",
    "\n",
    "\n",
    "plt.plot(accuracy_values)\n",
    "plt.title('Model accuracy')\n",
    "plt.ylabel('Validation accuracy')\n",
    "plt.xlabel('Epoch')\n",
    "\n",
    "plt.show()"
   ]
  },
  {
   "cell_type": "markdown",
   "metadata": {},
   "source": [
    "As we can see this combination of parameters and optimizers gives us a more behaved set of layers with less oscilation of error values. Comparing with the previous Model we can see that the accuracy increased by 7% and the validation error decreased from (0,61 to 0,55). However if we reduce the batch size, per epoch we will have more gradient updates that would suggest a better trained model capable of better generalizing to examples outside the training set that would result in a lower validation error, so let's try with a batch size of 5. "
   ]
  },
  {
   "cell_type": "code",
   "execution_count": 14,
   "metadata": {},
   "outputs": [],
   "source": [
    "network, variables =create_network(xTrain)\n",
    "batch_size = 5\n",
    "batches_per_epoch = xTrain.shape[0]//batch_size\n",
    "epochs = 25\n",
    "\n",
    "optimizer = tf.keras.optimizers.Adam()"
   ]
  },
  {
   "cell_type": "code",
   "execution_count": 15,
   "metadata": {},
   "outputs": [
    {
     "name": "stdout",
     "output_type": "stream",
     "text": [
      "loss: 0.41799554228782654, val_loss, 0.565363347530365, val_acccuracy 0.7647058963775635\n"
     ]
    }
   ],
   "source": [
    "train_errors= []\n",
    "valid_errors = []\n",
    "accuracy_values = []\n",
    "for epoch in range(epochs):\n",
    "    shuffled = np.arange(len(yTrain))\n",
    "    np.random.shuffle(shuffled)\n",
    "    \n",
    "    for batch_num in range(batches_per_epoch):\n",
    "            start = batch_num*batch_size\n",
    "            batch_xs = tf.constant(xTrain[shuffled[start:start+batch_size],:].astype(np.float32))\n",
    "            batch_ys = tf.constant(yTrain[shuffled[start:start+batch_size]].astype(np.float32))\n",
    "            grad(batch_xs, batch_ys, optimizer)\n",
    "            \n",
    "    \n",
    "    y_pred =predict(tf.constant(xTrain.astype(np.float32)))\n",
    "    y_pred_valid =predict(tf.constant(xValid.astype(np.float32)))\n",
    "   \n",
    "    train_error, valid_error, accuracy = training_stats(tf.constant(xTrain.astype(np.float32)),\n",
    "                                                        tf.constant(xValid.astype(np.float32)),\n",
    "                                                        y_pred,\n",
    "                                                        yTrain,\n",
    "                                                        y_pred_valid,\n",
    "                                                        yValid)\n",
    "    train_errors.append(train_error)\n",
    "    valid_errors.append(valid_error)\n",
    "    accuracy_values.append(accuracy)\n",
    "    \n",
    "                    \n",
    "print('loss: {}, val_loss, {}, val_acccuracy {}'.format(train_error,valid_error,accuracy))"
   ]
  },
  {
   "cell_type": "code",
   "execution_count": 16,
   "metadata": {},
   "outputs": [
    {
     "data": {
      "image/png": "[encoded data removed]",
      "text/plain": [
       "<Figure size 432x288 with 1 Axes>"
      ]
     },
     "metadata": {
      "needs_background": "light"
     },
     "output_type": "display_data"
    },
    {
     "data": {
      "image/png": "[encoded data removed]",
      "text/plain": [
       "<Figure size 432x288 with 1 Axes>"
      ]
     },
     "metadata": {
      "needs_background": "light"
     },
     "output_type": "display_data"
    }
   ],
   "source": [
    "plt.plot(train_errors)\n",
    "plt.plot(valid_errors)\n",
    "plt.title('Model loss')\n",
    "plt.ylabel('Loss')\n",
    "plt.xlabel('Epoch')\n",
    "plt.legend(['Train', 'Validation'], loc='upper right')\n",
    "plt.show()\n",
    "\n",
    "\n",
    "plt.plot(accuracy_values)\n",
    "plt.title('Model accuracy')\n",
    "plt.ylabel('Validation accuracy')\n",
    "plt.xlabel('Epoch')\n",
    "\n",
    "plt.show()"
   ]
  },
  {
   "cell_type": "markdown",
   "metadata": {},
   "source": [
    "We can see a slight increase in the validation error as we see that the model is starting to indicate signs of overfitting as refered previously by the increasing of the validation error arround epoch 12 so to mitigate that we would decrease the number of epochs again, until we are satisfied with the results. There are few more things that could be done to try to decrease the error such as trying different combination of layers and number of neurons or adding a dropout layer to help with regularization but the only way to know is to try them out."
   ]
  },
  {
   "cell_type": "markdown",
   "metadata": {},
   "source": [
    "## Keras API"
   ]
  },
  {
   "cell_type": "markdown",
   "metadata": {},
   "source": [
    "Keras is a neural networks library that is high-level in nature making it extremely simple and intuitive to use. It works as a wrapper to low-level libraries like TensorFlow. It has two main model building API's beeing: a **functional** one that allows you to define multiple input or output models as well as models that share layers (we will not explore that in our implementation); a **sequential** one that is great for developing deep learning models in most situations, but where it's more dificult to define models that share variours layers, re-use layers or have multiple different input sources."
   ]
  },
  {
   "cell_type": "markdown",
   "metadata": {},
   "source": [
    "## Predict age of abalone from physical measurements using Keras Sequential API implementation"
   ]
  },
  {
   "cell_type": "markdown",
   "metadata": {},
   "source": [
    "### Setup"
   ]
  },
  {
   "cell_type": "code",
   "execution_count": 17,
   "metadata": {},
   "outputs": [],
   "source": [
    "import numpy as np;\n",
    "import matplotlib.pyplot as plt\n",
    "import pandas as pd\n",
    "from tensorflow.keras.models import Sequential, Model\n",
    "from tensorflow.keras.layers import Dense, Input, Activation\n",
    "from tensorflow.keras.optimizers import SGD,Adam"
   ]
  },
  {
   "cell_type": "markdown",
   "metadata": {},
   "source": [
    "### The abalone dataset"
   ]
  },
  {
   "cell_type": "markdown",
   "metadata": {},
   "source": [
    "This dataset consists of several physical mesurements of Abalones (type of sea snail) in order to predict it's age given by the **Rings** feature. There are 9 predictor features which are **Sex** which takes the values of Male, Female or Infant,**length** (mm),**diameter** prependicular to length (mm), **height** (mm), **whole_weight** (grams), **shucked_weight** (grams), **viscera_weight**  (grams) and **shell_weight** (grams). \n",
    "\n",
    "Our dataset contains **4417 entries** of data and our main goal is based on the given features to **predict the age of the abalone**."
   ]
  },
  {
   "cell_type": "code",
   "execution_count": 18,
   "metadata": {},
   "outputs": [
    {
     "data": {
      "text/html": [
       "<div>\n",
       "<style scoped>\n",
       "    .dataframe tbody tr th:only-of-type {\n",
       "        vertical-align: middle;\n",
       "    }\n",
       "\n",
       "    .dataframe tbody tr th {\n",
       "        vertical-align: top;\n",
       "    }\n",
       "\n",
       "    .dataframe thead th {\n",
       "        text-align: right;\n",
       "    }\n",
       "</style>\n",
       "<table border=\"1\" class=\"dataframe\">\n",
       "  <thead>\n",
       "    <tr style=\"text-align: right;\">\n",
       "      <th></th>\n",
       "      <th>length</th>\n",
       "      <th>diameter</th>\n",
       "      <th>height</th>\n",
       "      <th>whole_weight</th>\n",
       "      <th>shucked_weight</th>\n",
       "      <th>viscera_weight</th>\n",
       "      <th>shell_weight</th>\n",
       "      <th>rings</th>\n",
       "    </tr>\n",
       "  </thead>\n",
       "  <tbody>\n",
       "    <tr>\n",
       "      <th>count</th>\n",
       "      <td>4177.000000</td>\n",
       "      <td>4177.000000</td>\n",
       "      <td>4177.000000</td>\n",
       "      <td>4177.000000</td>\n",
       "      <td>4177.000000</td>\n",
       "      <td>4177.000000</td>\n",
       "      <td>4177.000000</td>\n",
       "      <td>4177.000000</td>\n",
       "    </tr>\n",
       "    <tr>\n",
       "      <th>mean</th>\n",
       "      <td>0.523992</td>\n",
       "      <td>0.407881</td>\n",
       "      <td>0.139516</td>\n",
       "      <td>0.828742</td>\n",
       "      <td>0.359367</td>\n",
       "      <td>0.180594</td>\n",
       "      <td>0.238831</td>\n",
       "      <td>9.933684</td>\n",
       "    </tr>\n",
       "    <tr>\n",
       "      <th>std</th>\n",
       "      <td>0.120093</td>\n",
       "      <td>0.099240</td>\n",
       "      <td>0.041827</td>\n",
       "      <td>0.490389</td>\n",
       "      <td>0.221963</td>\n",
       "      <td>0.109614</td>\n",
       "      <td>0.139203</td>\n",
       "      <td>3.224169</td>\n",
       "    </tr>\n",
       "    <tr>\n",
       "      <th>min</th>\n",
       "      <td>0.075000</td>\n",
       "      <td>0.055000</td>\n",
       "      <td>0.000000</td>\n",
       "      <td>0.002000</td>\n",
       "      <td>0.001000</td>\n",
       "      <td>0.000500</td>\n",
       "      <td>0.001500</td>\n",
       "      <td>1.000000</td>\n",
       "    </tr>\n",
       "    <tr>\n",
       "      <th>25%</th>\n",
       "      <td>0.450000</td>\n",
       "      <td>0.350000</td>\n",
       "      <td>0.115000</td>\n",
       "      <td>0.441500</td>\n",
       "      <td>0.186000</td>\n",
       "      <td>0.093500</td>\n",
       "      <td>0.130000</td>\n",
       "      <td>8.000000</td>\n",
       "    </tr>\n",
       "    <tr>\n",
       "      <th>50%</th>\n",
       "      <td>0.545000</td>\n",
       "      <td>0.425000</td>\n",
       "      <td>0.140000</td>\n",
       "      <td>0.799500</td>\n",
       "      <td>0.336000</td>\n",
       "      <td>0.171000</td>\n",
       "      <td>0.234000</td>\n",
       "      <td>9.000000</td>\n",
       "    </tr>\n",
       "    <tr>\n",
       "      <th>75%</th>\n",
       "      <td>0.615000</td>\n",
       "      <td>0.480000</td>\n",
       "      <td>0.165000</td>\n",
       "      <td>1.153000</td>\n",
       "      <td>0.502000</td>\n",
       "      <td>0.253000</td>\n",
       "      <td>0.329000</td>\n",
       "      <td>11.000000</td>\n",
       "    </tr>\n",
       "    <tr>\n",
       "      <th>max</th>\n",
       "      <td>0.815000</td>\n",
       "      <td>0.650000</td>\n",
       "      <td>1.130000</td>\n",
       "      <td>2.825500</td>\n",
       "      <td>1.488000</td>\n",
       "      <td>0.760000</td>\n",
       "      <td>1.005000</td>\n",
       "      <td>29.000000</td>\n",
       "    </tr>\n",
       "  </tbody>\n",
       "</table>\n",
       "</div>"
      ],
      "text/plain": [
       "            length     diameter       height  whole_weight  shucked_weight  \\\n",
       "count  4177.000000  4177.000000  4177.000000   4177.000000     4177.000000   \n",
       "mean      0.523992     0.407881     0.139516      0.828742        0.359367   \n",
       "std       0.120093     0.099240     0.041827      0.490389        0.221963   \n",
       "min       0.075000     0.055000     0.000000      0.002000        0.001000   \n",
       "25%       0.450000     0.350000     0.115000      0.441500        0.186000   \n",
       "50%       0.545000     0.425000     0.140000      0.799500        0.336000   \n",
       "75%       0.615000     0.480000     0.165000      1.153000        0.502000   \n",
       "max       0.815000     0.650000     1.130000      2.825500        1.488000   \n",
       "\n",
       "       viscera_weight  shell_weight        rings  \n",
       "count     4177.000000   4177.000000  4177.000000  \n",
       "mean         0.180594      0.238831     9.933684  \n",
       "std          0.109614      0.139203     3.224169  \n",
       "min          0.000500      0.001500     1.000000  \n",
       "25%          0.093500      0.130000     8.000000  \n",
       "50%          0.171000      0.234000     9.000000  \n",
       "75%          0.253000      0.329000    11.000000  \n",
       "max          0.760000      1.005000    29.000000  "
      ]
     },
     "execution_count": 18,
     "metadata": {},
     "output_type": "execute_result"
    }
   ],
   "source": [
    "data = pd.read_csv('abalone_data.csv')\n",
    "\n",
    "data.describe()"
   ]
  },
  {
   "cell_type": "markdown",
   "metadata": {},
   "source": [
    "As we can see our sex parameter didint show up when we describe our data, that is because its values are strings of 3 different values and so we need to one hot encode those values to be able to use them, this will remove the original feature 'sex' and add 3 new features one for each sex (male, female and infant).\n",
    "\n",
    "After that we need to standardize our data, including the target feature of age  as this is useful to prevent very large values resulting in convergence problems.\n",
    "\n",
    "Then we need to separate it in a training set (70% of data) to train our model, a validation set (20% of our model) to monitor how the network is performin outside the training set, and a test set of (10% of data)tis tells us how well we can expect the model to predict when we use it in the real world."
   ]
  },
  {
   "cell_type": "code",
   "execution_count": 19,
   "metadata": {},
   "outputs": [],
   "source": [
    "ohe = pd.get_dummies(data['sex'], prefix='sex')\n",
    "\n",
    "data = pd.concat([data, ohe], axis=1)\n",
    "\n",
    "data= data.drop(['sex'],axis=1)"
   ]
  },
  {
   "cell_type": "markdown",
   "metadata": {},
   "source": [
    "New data with one-hot-encoding"
   ]
  },
  {
   "cell_type": "code",
   "execution_count": 20,
   "metadata": {},
   "outputs": [
    {
     "data": {
      "text/html": [
       "<div>\n",
       "<style scoped>\n",
       "    .dataframe tbody tr th:only-of-type {\n",
       "        vertical-align: middle;\n",
       "    }\n",
       "\n",
       "    .dataframe tbody tr th {\n",
       "        vertical-align: top;\n",
       "    }\n",
       "\n",
       "    .dataframe thead th {\n",
       "        text-align: right;\n",
       "    }\n",
       "</style>\n",
       "<table border=\"1\" class=\"dataframe\">\n",
       "  <thead>\n",
       "    <tr style=\"text-align: right;\">\n",
       "      <th></th>\n",
       "      <th>length</th>\n",
       "      <th>diameter</th>\n",
       "      <th>height</th>\n",
       "      <th>whole_weight</th>\n",
       "      <th>shucked_weight</th>\n",
       "      <th>viscera_weight</th>\n",
       "      <th>shell_weight</th>\n",
       "      <th>rings</th>\n",
       "      <th>sex_F</th>\n",
       "      <th>sex_I</th>\n",
       "      <th>sex_M</th>\n",
       "    </tr>\n",
       "  </thead>\n",
       "  <tbody>\n",
       "    <tr>\n",
       "      <th>count</th>\n",
       "      <td>4177.000000</td>\n",
       "      <td>4177.000000</td>\n",
       "      <td>4177.000000</td>\n",
       "      <td>4177.000000</td>\n",
       "      <td>4177.000000</td>\n",
       "      <td>4177.000000</td>\n",
       "      <td>4177.000000</td>\n",
       "      <td>4177.000000</td>\n",
       "      <td>4177.000000</td>\n",
       "      <td>4177.000000</td>\n",
       "      <td>4177.000000</td>\n",
       "    </tr>\n",
       "    <tr>\n",
       "      <th>mean</th>\n",
       "      <td>0.523992</td>\n",
       "      <td>0.407881</td>\n",
       "      <td>0.139516</td>\n",
       "      <td>0.828742</td>\n",
       "      <td>0.359367</td>\n",
       "      <td>0.180594</td>\n",
       "      <td>0.238831</td>\n",
       "      <td>9.933684</td>\n",
       "      <td>0.312904</td>\n",
       "      <td>0.321283</td>\n",
       "      <td>0.365813</td>\n",
       "    </tr>\n",
       "    <tr>\n",
       "      <th>std</th>\n",
       "      <td>0.120093</td>\n",
       "      <td>0.099240</td>\n",
       "      <td>0.041827</td>\n",
       "      <td>0.490389</td>\n",
       "      <td>0.221963</td>\n",
       "      <td>0.109614</td>\n",
       "      <td>0.139203</td>\n",
       "      <td>3.224169</td>\n",
       "      <td>0.463731</td>\n",
       "      <td>0.467025</td>\n",
       "      <td>0.481715</td>\n",
       "    </tr>\n",
       "    <tr>\n",
       "      <th>min</th>\n",
       "      <td>0.075000</td>\n",
       "      <td>0.055000</td>\n",
       "      <td>0.000000</td>\n",
       "      <td>0.002000</td>\n",
       "      <td>0.001000</td>\n",
       "      <td>0.000500</td>\n",
       "      <td>0.001500</td>\n",
       "      <td>1.000000</td>\n",
       "      <td>0.000000</td>\n",
       "      <td>0.000000</td>\n",
       "      <td>0.000000</td>\n",
       "    </tr>\n",
       "    <tr>\n",
       "      <th>25%</th>\n",
       "      <td>0.450000</td>\n",
       "      <td>0.350000</td>\n",
       "      <td>0.115000</td>\n",
       "      <td>0.441500</td>\n",
       "      <td>0.186000</td>\n",
       "      <td>0.093500</td>\n",
       "      <td>0.130000</td>\n",
       "      <td>8.000000</td>\n",
       "      <td>0.000000</td>\n",
       "      <td>0.000000</td>\n",
       "      <td>0.000000</td>\n",
       "    </tr>\n",
       "    <tr>\n",
       "      <th>50%</th>\n",
       "      <td>0.545000</td>\n",
       "      <td>0.425000</td>\n",
       "      <td>0.140000</td>\n",
       "      <td>0.799500</td>\n",
       "      <td>0.336000</td>\n",
       "      <td>0.171000</td>\n",
       "      <td>0.234000</td>\n",
       "      <td>9.000000</td>\n",
       "      <td>0.000000</td>\n",
       "      <td>0.000000</td>\n",
       "      <td>0.000000</td>\n",
       "    </tr>\n",
       "    <tr>\n",
       "      <th>75%</th>\n",
       "      <td>0.615000</td>\n",
       "      <td>0.480000</td>\n",
       "      <td>0.165000</td>\n",
       "      <td>1.153000</td>\n",
       "      <td>0.502000</td>\n",
       "      <td>0.253000</td>\n",
       "      <td>0.329000</td>\n",
       "      <td>11.000000</td>\n",
       "      <td>1.000000</td>\n",
       "      <td>1.000000</td>\n",
       "      <td>1.000000</td>\n",
       "    </tr>\n",
       "    <tr>\n",
       "      <th>max</th>\n",
       "      <td>0.815000</td>\n",
       "      <td>0.650000</td>\n",
       "      <td>1.130000</td>\n",
       "      <td>2.825500</td>\n",
       "      <td>1.488000</td>\n",
       "      <td>0.760000</td>\n",
       "      <td>1.005000</td>\n",
       "      <td>29.000000</td>\n",
       "      <td>1.000000</td>\n",
       "      <td>1.000000</td>\n",
       "      <td>1.000000</td>\n",
       "    </tr>\n",
       "  </tbody>\n",
       "</table>\n",
       "</div>"
      ],
      "text/plain": [
       "            length     diameter       height  whole_weight  shucked_weight  \\\n",
       "count  4177.000000  4177.000000  4177.000000   4177.000000     4177.000000   \n",
       "mean      0.523992     0.407881     0.139516      0.828742        0.359367   \n",
       "std       0.120093     0.099240     0.041827      0.490389        0.221963   \n",
       "min       0.075000     0.055000     0.000000      0.002000        0.001000   \n",
       "25%       0.450000     0.350000     0.115000      0.441500        0.186000   \n",
       "50%       0.545000     0.425000     0.140000      0.799500        0.336000   \n",
       "75%       0.615000     0.480000     0.165000      1.153000        0.502000   \n",
       "max       0.815000     0.650000     1.130000      2.825500        1.488000   \n",
       "\n",
       "       viscera_weight  shell_weight        rings        sex_F        sex_I  \\\n",
       "count     4177.000000   4177.000000  4177.000000  4177.000000  4177.000000   \n",
       "mean         0.180594      0.238831     9.933684     0.312904     0.321283   \n",
       "std          0.109614      0.139203     3.224169     0.463731     0.467025   \n",
       "min          0.000500      0.001500     1.000000     0.000000     0.000000   \n",
       "25%          0.093500      0.130000     8.000000     0.000000     0.000000   \n",
       "50%          0.171000      0.234000     9.000000     0.000000     0.000000   \n",
       "75%          0.253000      0.329000    11.000000     1.000000     1.000000   \n",
       "max          0.760000      1.005000    29.000000     1.000000     1.000000   \n",
       "\n",
       "             sex_M  \n",
       "count  4177.000000  \n",
       "mean      0.365813  \n",
       "std       0.481715  \n",
       "min       0.000000  \n",
       "25%       0.000000  \n",
       "50%       0.000000  \n",
       "75%       1.000000  \n",
       "max       1.000000  "
      ]
     },
     "execution_count": 20,
     "metadata": {},
     "output_type": "execute_result"
    }
   ],
   "source": [
    "data.describe()\n"
   ]
  },
  {
   "cell_type": "code",
   "execution_count": 21,
   "metadata": {},
   "outputs": [],
   "source": [
    "data = data.to_numpy()\n",
    "np.random.shuffle(data)\n",
    "\n",
    "#standardize data\n",
    "means = np.mean(data,axis=0)\n",
    "stds = np.std(data,axis=0)\n",
    "data = (data-means)/stds\n",
    "\n",
    "\n",
    "Y = data[:,[7]]\n",
    "data = np.delete(data, 7, axis=1)\n",
    "X = data\n",
    "\n",
    "xTrain = X[:2924,:]  #2924‬ ~70% data\n",
    "yTrain = Y[:2924]\n",
    "\n",
    "xValid = X[2924:3758,:] #835 20% data\n",
    "yValid = Y[2924:3758]\n",
    "\n",
    "xTest = X[3758:,:] #419 10% data\n",
    "yTest = Y[3758:]\n"
   ]
  },
  {
   "cell_type": "markdown",
   "metadata": {},
   "source": [
    "Using the keras sequential API is pretty straightforward. We intend to create a model with 3 layers: 1 input layers with 10 neurons and  relu activation, 1 hidden layer with 20 neurons also with relu activation and 1 output layer with 1 neuron as we are solving a regression problem we only want the linear combination of the activation of the previous layer multiplied by the weight plus bias. For each layer we create we need to create a Dense layer, indicating the corresponding activation function in this case relu, and for the input layer we need to specify what shape of the input the model receives in our case we receice a array with lenght 10 so we define input_dim as 10."
   ]
  },
  {
   "cell_type": "code",
   "execution_count": 22,
   "metadata": {},
   "outputs": [],
   "source": [
    "def create_model_sequential():\n",
    "    model = Sequential()\n",
    "    model.add(Dense(10, input_dim=10, activation='relu'))\n",
    "    model.add(Dense(20, activation='relu'))\n",
    "    model.add(Dense(1))\n",
    "    return model"
   ]
  },
  {
   "cell_type": "markdown",
   "metadata": {},
   "source": [
    "To start defined the batch size, epoch number and optimizer as, 32, 100 and Adam optimizer respectevly. Next we need to configure our model for training, using the compile function we will use as our loss function mean square error (mse: which penalizes great deviations from the target value) as we are dealing with a regression problem, and as said our optimizer is Adam. Now we are ready for training we fit our data to our model, and therefore starting training."
   ]
  },
  {
   "cell_type": "code",
   "execution_count": 23,
   "metadata": {},
   "outputs": [
    {
     "name": "stdout",
     "output_type": "stream",
     "text": [
      "Training mean squared error: 0.39713299148059905\n",
      "Validation mean squared error: 0.4527754843306484\n"
     ]
    }
   ],
   "source": [
    "batch_size = 32\n",
    "epochs = 100\n",
    "\n",
    "opt = Adam()\n",
    "\n",
    "model = create_model_sequential()\n",
    "\n",
    "model.compile(loss=\"mse\", optimizer=opt)\n",
    "\n",
    "history = model.fit(xTrain, yTrain, validation_data=(xValid, yValid), batch_size=batch_size, epochs=epochs, verbose=0)\n",
    "print('Training mean squared error: {}'.format(history.history['loss'][-1]))\n",
    "print('Validation mean squared error: {}'.format(history.history['val_loss'][-1]))"
   ]
  },
  {
   "cell_type": "code",
   "execution_count": 24,
   "metadata": {
    "scrolled": false
   },
   "outputs": [
    {
     "data": {
      "image/png": "[encoded data removed]",
      "text/plain": [
       "<Figure size 432x288 with 1 Axes>"
      ]
     },
     "metadata": {
      "needs_background": "light"
     },
     "output_type": "display_data"
    }
   ],
   "source": [
    "plt.plot(history.history['loss'])\n",
    "plt.plot(history.history['val_loss'])\n",
    "plt.title('Model loss')\n",
    "plt.ylabel('Loss')\n",
    "plt.xlabel('Epoch')\n",
    "plt.legend(['Train', 'Validation'], loc='upper right')\n",
    "plt.show()\n",
    "\n"
   ]
  },
  {
   "cell_type": "markdown",
   "metadata": {},
   "source": [
    "Now aplying the data to our test set:"
   ]
  },
  {
   "cell_type": "code",
   "execution_count": 25,
   "metadata": {},
   "outputs": [
    {
     "data": {
      "image/png": "[encoded data removed]",
      "text/plain": [
       "<Figure size 432x288 with 1 Axes>"
      ]
     },
     "metadata": {
      "needs_background": "light"
     },
     "output_type": "display_data"
    }
   ],
   "source": [
    "test_predictions = model.predict(xTest).flatten()\n",
    "\n",
    "#reversing standardization predictions and labels to real values\n",
    "t= test_predictions * stds[7]\n",
    "preds = t+ means[7]\n",
    "labels = yTest * stds[7]\n",
    "labels = labels + means[7]\n",
    "\n",
    "\n",
    "a = plt.axes(aspect='equal')\n",
    "plt.scatter(labels,preds )\n",
    "plt.xlabel('True Values')\n",
    "plt.ylabel('Predictions')\n",
    "lims = [0, 35]\n",
    "plt.xlim(lims)\n",
    "plt.ylim(lims)\n",
    "_ = plt.plot(lims, lims)"
   ]
  },
  {
   "cell_type": "markdown",
   "metadata": {},
   "source": [
    "As we can see from the above graph it validades the assumption that our model generalizes our data well outside the training set with the great majority of our data being close to the predicted value (x=y). We could improve this results even further by using as an example early stopping as we saw from the error graph it maintained pretty stable for great majority of training incurring possibly in overfitting. Reducing the batch size might had also had a regularization effect improving our predictions."
   ]
  },
  {
   "cell_type": "markdown",
   "metadata": {},
   "source": [
    "## Predicting wine producer using Keras Functional API"
   ]
  },
  {
   "cell_type": "markdown",
   "metadata": {},
   "source": [
    "### Setup\n"
   ]
  },
  {
   "cell_type": "code",
   "execution_count": 26,
   "metadata": {},
   "outputs": [],
   "source": [
    "import numpy as np;\n",
    "import matplotlib.pyplot as plt\n",
    "import pandas as pd\n",
    "from tensorflow import keras\n",
    "from tensorflow.keras.models import Sequential, Model\n",
    "from tensorflow.keras.layers import Dense, Input, Activation,LeakyReLU\n",
    "from tensorflow.keras.optimizers import SGD,Adam"
   ]
  },
  {
   "cell_type": "markdown",
   "metadata": {},
   "source": [
    "### The data"
   ]
  },
  {
   "cell_type": "markdown",
   "metadata": {},
   "source": [
    "These data are the results of a chemical analysis of 178 wines grown in the same region in Italy but derived from three different cultivars. The analysis determined the quantities of 13 constituents found in each of the three types of wines."
   ]
  },
  {
   "cell_type": "code",
   "execution_count": 27,
   "metadata": {},
   "outputs": [
    {
     "data": {
      "text/html": [
       "<div>\n",
       "<style scoped>\n",
       "    .dataframe tbody tr th:only-of-type {\n",
       "        vertical-align: middle;\n",
       "    }\n",
       "\n",
       "    .dataframe tbody tr th {\n",
       "        vertical-align: top;\n",
       "    }\n",
       "\n",
       "    .dataframe thead th {\n",
       "        text-align: right;\n",
       "    }\n",
       "</style>\n",
       "<table border=\"1\" class=\"dataframe\">\n",
       "  <thead>\n",
       "    <tr style=\"text-align: right;\">\n",
       "      <th></th>\n",
       "      <th>Alcohol</th>\n",
       "      <th>Malic acid</th>\n",
       "      <th>Ash</th>\n",
       "      <th>Alcalinity of ash</th>\n",
       "      <th>Magnesium</th>\n",
       "      <th>Total phenols</th>\n",
       "      <th>Flavanoids</th>\n",
       "      <th>Nonflavanoid phenols</th>\n",
       "      <th>Proanthocyanins</th>\n",
       "      <th>Color intensity</th>\n",
       "      <th>Hue</th>\n",
       "      <th>OD280/OD315 of diluted wines</th>\n",
       "      <th>Proline</th>\n",
       "    </tr>\n",
       "  </thead>\n",
       "  <tbody>\n",
       "    <tr>\n",
       "      <th>count</th>\n",
       "      <td>178.000000</td>\n",
       "      <td>178.000000</td>\n",
       "      <td>178.000000</td>\n",
       "      <td>178.000000</td>\n",
       "      <td>178.000000</td>\n",
       "      <td>178.000000</td>\n",
       "      <td>178.000000</td>\n",
       "      <td>178.000000</td>\n",
       "      <td>178.000000</td>\n",
       "      <td>178.000000</td>\n",
       "      <td>178.000000</td>\n",
       "      <td>178.000000</td>\n",
       "      <td>178.000000</td>\n",
       "    </tr>\n",
       "    <tr>\n",
       "      <th>mean</th>\n",
       "      <td>13.000618</td>\n",
       "      <td>2.336348</td>\n",
       "      <td>2.366517</td>\n",
       "      <td>19.494944</td>\n",
       "      <td>99.741573</td>\n",
       "      <td>2.295112</td>\n",
       "      <td>2.029270</td>\n",
       "      <td>0.361854</td>\n",
       "      <td>1.590899</td>\n",
       "      <td>5.058090</td>\n",
       "      <td>0.957449</td>\n",
       "      <td>2.611685</td>\n",
       "      <td>746.893258</td>\n",
       "    </tr>\n",
       "    <tr>\n",
       "      <th>std</th>\n",
       "      <td>0.811827</td>\n",
       "      <td>1.117146</td>\n",
       "      <td>0.274344</td>\n",
       "      <td>3.339564</td>\n",
       "      <td>14.282484</td>\n",
       "      <td>0.625851</td>\n",
       "      <td>0.998859</td>\n",
       "      <td>0.124453</td>\n",
       "      <td>0.572359</td>\n",
       "      <td>2.318286</td>\n",
       "      <td>0.228572</td>\n",
       "      <td>0.709990</td>\n",
       "      <td>314.907474</td>\n",
       "    </tr>\n",
       "    <tr>\n",
       "      <th>min</th>\n",
       "      <td>11.030000</td>\n",
       "      <td>0.740000</td>\n",
       "      <td>1.360000</td>\n",
       "      <td>10.600000</td>\n",
       "      <td>70.000000</td>\n",
       "      <td>0.980000</td>\n",
       "      <td>0.340000</td>\n",
       "      <td>0.130000</td>\n",
       "      <td>0.410000</td>\n",
       "      <td>1.280000</td>\n",
       "      <td>0.480000</td>\n",
       "      <td>1.270000</td>\n",
       "      <td>278.000000</td>\n",
       "    </tr>\n",
       "    <tr>\n",
       "      <th>25%</th>\n",
       "      <td>12.362500</td>\n",
       "      <td>1.602500</td>\n",
       "      <td>2.210000</td>\n",
       "      <td>17.200000</td>\n",
       "      <td>88.000000</td>\n",
       "      <td>1.742500</td>\n",
       "      <td>1.205000</td>\n",
       "      <td>0.270000</td>\n",
       "      <td>1.250000</td>\n",
       "      <td>3.220000</td>\n",
       "      <td>0.782500</td>\n",
       "      <td>1.937500</td>\n",
       "      <td>500.500000</td>\n",
       "    </tr>\n",
       "    <tr>\n",
       "      <th>50%</th>\n",
       "      <td>13.050000</td>\n",
       "      <td>1.865000</td>\n",
       "      <td>2.360000</td>\n",
       "      <td>19.500000</td>\n",
       "      <td>98.000000</td>\n",
       "      <td>2.355000</td>\n",
       "      <td>2.135000</td>\n",
       "      <td>0.340000</td>\n",
       "      <td>1.555000</td>\n",
       "      <td>4.690000</td>\n",
       "      <td>0.965000</td>\n",
       "      <td>2.780000</td>\n",
       "      <td>673.500000</td>\n",
       "    </tr>\n",
       "    <tr>\n",
       "      <th>75%</th>\n",
       "      <td>13.677500</td>\n",
       "      <td>3.082500</td>\n",
       "      <td>2.557500</td>\n",
       "      <td>21.500000</td>\n",
       "      <td>107.000000</td>\n",
       "      <td>2.800000</td>\n",
       "      <td>2.875000</td>\n",
       "      <td>0.437500</td>\n",
       "      <td>1.950000</td>\n",
       "      <td>6.200000</td>\n",
       "      <td>1.120000</td>\n",
       "      <td>3.170000</td>\n",
       "      <td>985.000000</td>\n",
       "    </tr>\n",
       "    <tr>\n",
       "      <th>max</th>\n",
       "      <td>14.830000</td>\n",
       "      <td>5.800000</td>\n",
       "      <td>3.230000</td>\n",
       "      <td>30.000000</td>\n",
       "      <td>162.000000</td>\n",
       "      <td>3.880000</td>\n",
       "      <td>5.080000</td>\n",
       "      <td>0.660000</td>\n",
       "      <td>3.580000</td>\n",
       "      <td>13.000000</td>\n",
       "      <td>1.710000</td>\n",
       "      <td>4.000000</td>\n",
       "      <td>1680.000000</td>\n",
       "    </tr>\n",
       "  </tbody>\n",
       "</table>\n",
       "</div>"
      ],
      "text/plain": [
       "          Alcohol  Malic acid         Ash  Alcalinity of ash   Magnesium  \\\n",
       "count  178.000000  178.000000  178.000000         178.000000  178.000000   \n",
       "mean    13.000618    2.336348    2.366517          19.494944   99.741573   \n",
       "std      0.811827    1.117146    0.274344           3.339564   14.282484   \n",
       "min     11.030000    0.740000    1.360000          10.600000   70.000000   \n",
       "25%     12.362500    1.602500    2.210000          17.200000   88.000000   \n",
       "50%     13.050000    1.865000    2.360000          19.500000   98.000000   \n",
       "75%     13.677500    3.082500    2.557500          21.500000  107.000000   \n",
       "max     14.830000    5.800000    3.230000          30.000000  162.000000   \n",
       "\n",
       "       Total phenols  Flavanoids  Nonflavanoid phenols  Proanthocyanins  \\\n",
       "count     178.000000  178.000000            178.000000       178.000000   \n",
       "mean        2.295112    2.029270              0.361854         1.590899   \n",
       "std         0.625851    0.998859              0.124453         0.572359   \n",
       "min         0.980000    0.340000              0.130000         0.410000   \n",
       "25%         1.742500    1.205000              0.270000         1.250000   \n",
       "50%         2.355000    2.135000              0.340000         1.555000   \n",
       "75%         2.800000    2.875000              0.437500         1.950000   \n",
       "max         3.880000    5.080000              0.660000         3.580000   \n",
       "\n",
       "       Color intensity         Hue  OD280/OD315 of diluted wines      Proline  \n",
       "count       178.000000  178.000000                    178.000000   178.000000  \n",
       "mean          5.058090    0.957449                      2.611685   746.893258  \n",
       "std           2.318286    0.228572                      0.709990   314.907474  \n",
       "min           1.280000    0.480000                      1.270000   278.000000  \n",
       "25%           3.220000    0.782500                      1.937500   500.500000  \n",
       "50%           4.690000    0.965000                      2.780000   673.500000  \n",
       "75%           6.200000    1.120000                      3.170000   985.000000  \n",
       "max          13.000000    1.710000                      4.000000  1680.000000  "
      ]
     },
     "execution_count": 27,
     "metadata": {},
     "output_type": "execute_result"
    }
   ],
   "source": [
    "data = pd.read_csv('wine_dataset.csv')\n",
    "\n",
    "data.describe()"
   ]
  },
  {
   "cell_type": "code",
   "execution_count": 28,
   "metadata": {},
   "outputs": [
    {
     "name": "stdout",
     "output_type": "stream",
     "text": [
      "[One, One, One, One, One, ..., Three, Three, Three, Three, Three]\n",
      "Length: 178\n",
      "Categories (3, object): [One, Three, Two]\n"
     ]
    }
   ],
   "source": [
    "print(pd.Categorical(data['Wine Type']))"
   ]
  },
  {
   "cell_type": "markdown",
   "metadata": {},
   "source": [
    "We will need first of all to one hot encode the Wine Type attribute (classification variable) as it's value is just a string."
   ]
  },
  {
   "cell_type": "code",
   "execution_count": 29,
   "metadata": {},
   "outputs": [],
   "source": [
    "ohe = pd.get_dummies(data['Wine Type'], prefix='Wine Type')\n",
    "\n",
    "\n",
    "data = pd.concat([data, ohe], axis=1)\n",
    "\n",
    "data= data.drop(['Wine Type'],axis=1)"
   ]
  },
  {
   "cell_type": "code",
   "execution_count": 30,
   "metadata": {},
   "outputs": [
    {
     "data": {
      "text/html": [
       "<div>\n",
       "<style scoped>\n",
       "    .dataframe tbody tr th:only-of-type {\n",
       "        vertical-align: middle;\n",
       "    }\n",
       "\n",
       "    .dataframe tbody tr th {\n",
       "        vertical-align: top;\n",
       "    }\n",
       "\n",
       "    .dataframe thead th {\n",
       "        text-align: right;\n",
       "    }\n",
       "</style>\n",
       "<table border=\"1\" class=\"dataframe\">\n",
       "  <thead>\n",
       "    <tr style=\"text-align: right;\">\n",
       "      <th></th>\n",
       "      <th>Alcohol</th>\n",
       "      <th>Malic acid</th>\n",
       "      <th>Ash</th>\n",
       "      <th>Alcalinity of ash</th>\n",
       "      <th>Magnesium</th>\n",
       "      <th>Total phenols</th>\n",
       "      <th>Flavanoids</th>\n",
       "      <th>Nonflavanoid phenols</th>\n",
       "      <th>Proanthocyanins</th>\n",
       "      <th>Color intensity</th>\n",
       "      <th>Hue</th>\n",
       "      <th>OD280/OD315 of diluted wines</th>\n",
       "      <th>Proline</th>\n",
       "      <th>Wine Type_One</th>\n",
       "      <th>Wine Type_Three</th>\n",
       "      <th>Wine Type_Two</th>\n",
       "    </tr>\n",
       "  </thead>\n",
       "  <tbody>\n",
       "    <tr>\n",
       "      <th>count</th>\n",
       "      <td>178.000000</td>\n",
       "      <td>178.000000</td>\n",
       "      <td>178.000000</td>\n",
       "      <td>178.000000</td>\n",
       "      <td>178.000000</td>\n",
       "      <td>178.000000</td>\n",
       "      <td>178.000000</td>\n",
       "      <td>178.000000</td>\n",
       "      <td>178.000000</td>\n",
       "      <td>178.000000</td>\n",
       "      <td>178.000000</td>\n",
       "      <td>178.000000</td>\n",
       "      <td>178.000000</td>\n",
       "      <td>178.000000</td>\n",
       "      <td>178.000000</td>\n",
       "      <td>178.000000</td>\n",
       "    </tr>\n",
       "    <tr>\n",
       "      <th>mean</th>\n",
       "      <td>13.000618</td>\n",
       "      <td>2.336348</td>\n",
       "      <td>2.366517</td>\n",
       "      <td>19.494944</td>\n",
       "      <td>99.741573</td>\n",
       "      <td>2.295112</td>\n",
       "      <td>2.029270</td>\n",
       "      <td>0.361854</td>\n",
       "      <td>1.590899</td>\n",
       "      <td>5.058090</td>\n",
       "      <td>0.957449</td>\n",
       "      <td>2.611685</td>\n",
       "      <td>746.893258</td>\n",
       "      <td>0.331461</td>\n",
       "      <td>0.269663</td>\n",
       "      <td>0.398876</td>\n",
       "    </tr>\n",
       "    <tr>\n",
       "      <th>std</th>\n",
       "      <td>0.811827</td>\n",
       "      <td>1.117146</td>\n",
       "      <td>0.274344</td>\n",
       "      <td>3.339564</td>\n",
       "      <td>14.282484</td>\n",
       "      <td>0.625851</td>\n",
       "      <td>0.998859</td>\n",
       "      <td>0.124453</td>\n",
       "      <td>0.572359</td>\n",
       "      <td>2.318286</td>\n",
       "      <td>0.228572</td>\n",
       "      <td>0.709990</td>\n",
       "      <td>314.907474</td>\n",
       "      <td>0.472066</td>\n",
       "      <td>0.445037</td>\n",
       "      <td>0.491049</td>\n",
       "    </tr>\n",
       "    <tr>\n",
       "      <th>min</th>\n",
       "      <td>11.030000</td>\n",
       "      <td>0.740000</td>\n",
       "      <td>1.360000</td>\n",
       "      <td>10.600000</td>\n",
       "      <td>70.000000</td>\n",
       "      <td>0.980000</td>\n",
       "      <td>0.340000</td>\n",
       "      <td>0.130000</td>\n",
       "      <td>0.410000</td>\n",
       "      <td>1.280000</td>\n",
       "      <td>0.480000</td>\n",
       "      <td>1.270000</td>\n",
       "      <td>278.000000</td>\n",
       "      <td>0.000000</td>\n",
       "      <td>0.000000</td>\n",
       "      <td>0.000000</td>\n",
       "    </tr>\n",
       "    <tr>\n",
       "      <th>25%</th>\n",
       "      <td>12.362500</td>\n",
       "      <td>1.602500</td>\n",
       "      <td>2.210000</td>\n",
       "      <td>17.200000</td>\n",
       "      <td>88.000000</td>\n",
       "      <td>1.742500</td>\n",
       "      <td>1.205000</td>\n",
       "      <td>0.270000</td>\n",
       "      <td>1.250000</td>\n",
       "      <td>3.220000</td>\n",
       "      <td>0.782500</td>\n",
       "      <td>1.937500</td>\n",
       "      <td>500.500000</td>\n",
       "      <td>0.000000</td>\n",
       "      <td>0.000000</td>\n",
       "      <td>0.000000</td>\n",
       "    </tr>\n",
       "    <tr>\n",
       "      <th>50%</th>\n",
       "      <td>13.050000</td>\n",
       "      <td>1.865000</td>\n",
       "      <td>2.360000</td>\n",
       "      <td>19.500000</td>\n",
       "      <td>98.000000</td>\n",
       "      <td>2.355000</td>\n",
       "      <td>2.135000</td>\n",
       "      <td>0.340000</td>\n",
       "      <td>1.555000</td>\n",
       "      <td>4.690000</td>\n",
       "      <td>0.965000</td>\n",
       "      <td>2.780000</td>\n",
       "      <td>673.500000</td>\n",
       "      <td>0.000000</td>\n",
       "      <td>0.000000</td>\n",
       "      <td>0.000000</td>\n",
       "    </tr>\n",
       "    <tr>\n",
       "      <th>75%</th>\n",
       "      <td>13.677500</td>\n",
       "      <td>3.082500</td>\n",
       "      <td>2.557500</td>\n",
       "      <td>21.500000</td>\n",
       "      <td>107.000000</td>\n",
       "      <td>2.800000</td>\n",
       "      <td>2.875000</td>\n",
       "      <td>0.437500</td>\n",
       "      <td>1.950000</td>\n",
       "      <td>6.200000</td>\n",
       "      <td>1.120000</td>\n",
       "      <td>3.170000</td>\n",
       "      <td>985.000000</td>\n",
       "      <td>1.000000</td>\n",
       "      <td>1.000000</td>\n",
       "      <td>1.000000</td>\n",
       "    </tr>\n",
       "    <tr>\n",
       "      <th>max</th>\n",
       "      <td>14.830000</td>\n",
       "      <td>5.800000</td>\n",
       "      <td>3.230000</td>\n",
       "      <td>30.000000</td>\n",
       "      <td>162.000000</td>\n",
       "      <td>3.880000</td>\n",
       "      <td>5.080000</td>\n",
       "      <td>0.660000</td>\n",
       "      <td>3.580000</td>\n",
       "      <td>13.000000</td>\n",
       "      <td>1.710000</td>\n",
       "      <td>4.000000</td>\n",
       "      <td>1680.000000</td>\n",
       "      <td>1.000000</td>\n",
       "      <td>1.000000</td>\n",
       "      <td>1.000000</td>\n",
       "    </tr>\n",
       "  </tbody>\n",
       "</table>\n",
       "</div>"
      ],
      "text/plain": [
       "          Alcohol  Malic acid         Ash  Alcalinity of ash   Magnesium  \\\n",
       "count  178.000000  178.000000  178.000000         178.000000  178.000000   \n",
       "mean    13.000618    2.336348    2.366517          19.494944   99.741573   \n",
       "std      0.811827    1.117146    0.274344           3.339564   14.282484   \n",
       "min     11.030000    0.740000    1.360000          10.600000   70.000000   \n",
       "25%     12.362500    1.602500    2.210000          17.200000   88.000000   \n",
       "50%     13.050000    1.865000    2.360000          19.500000   98.000000   \n",
       "75%     13.677500    3.082500    2.557500          21.500000  107.000000   \n",
       "max     14.830000    5.800000    3.230000          30.000000  162.000000   \n",
       "\n",
       "       Total phenols  Flavanoids  Nonflavanoid phenols  Proanthocyanins  \\\n",
       "count     178.000000  178.000000            178.000000       178.000000   \n",
       "mean        2.295112    2.029270              0.361854         1.590899   \n",
       "std         0.625851    0.998859              0.124453         0.572359   \n",
       "min         0.980000    0.340000              0.130000         0.410000   \n",
       "25%         1.742500    1.205000              0.270000         1.250000   \n",
       "50%         2.355000    2.135000              0.340000         1.555000   \n",
       "75%         2.800000    2.875000              0.437500         1.950000   \n",
       "max         3.880000    5.080000              0.660000         3.580000   \n",
       "\n",
       "       Color intensity         Hue  OD280/OD315 of diluted wines      Proline  \\\n",
       "count       178.000000  178.000000                    178.000000   178.000000   \n",
       "mean          5.058090    0.957449                      2.611685   746.893258   \n",
       "std           2.318286    0.228572                      0.709990   314.907474   \n",
       "min           1.280000    0.480000                      1.270000   278.000000   \n",
       "25%           3.220000    0.782500                      1.937500   500.500000   \n",
       "50%           4.690000    0.965000                      2.780000   673.500000   \n",
       "75%           6.200000    1.120000                      3.170000   985.000000   \n",
       "max          13.000000    1.710000                      4.000000  1680.000000   \n",
       "\n",
       "       Wine Type_One  Wine Type_Three  Wine Type_Two  \n",
       "count     178.000000       178.000000     178.000000  \n",
       "mean        0.331461         0.269663       0.398876  \n",
       "std         0.472066         0.445037       0.491049  \n",
       "min         0.000000         0.000000       0.000000  \n",
       "25%         0.000000         0.000000       0.000000  \n",
       "50%         0.000000         0.000000       0.000000  \n",
       "75%         1.000000         1.000000       1.000000  \n",
       "max         1.000000         1.000000       1.000000  "
      ]
     },
     "execution_count": 30,
     "metadata": {},
     "output_type": "execute_result"
    }
   ],
   "source": [
    "data.describe()"
   ]
  },
  {
   "cell_type": "markdown",
   "metadata": {},
   "source": [
    "Now we standardize or feaures and separate our data into, train, validation and test sets"
   ]
  },
  {
   "cell_type": "code",
   "execution_count": 31,
   "metadata": {},
   "outputs": [],
   "source": [
    "data = data.to_numpy()\n",
    "np.random.shuffle(data)\n",
    "\n",
    "#standardize our features\n",
    "\n",
    "Y = data[:,13:]\n",
    "\n",
    "X = data[:,:12]\n",
    "\n",
    "\n",
    "#standardize data\n",
    "means = np.mean(X,axis=0)\n",
    "stds = np.std(X,axis=0)\n",
    "data = (X-means)/stds\n",
    "\n",
    "xTrain = X[:125,:]  #125‬ ~70% data\n",
    "yTrain = Y[:125]\n",
    "\n",
    "xValid = X[125:161,:] #36 20% data\n",
    "yValid = Y[125:161]\n",
    "\n",
    "xTest = X[161:,:] #12 10% data\n",
    "yTest = Y[161:]\n",
    "\n"
   ]
  },
  {
   "cell_type": "markdown",
   "metadata": {},
   "source": [
    "Building a model with the functional API of Keras is similiar to what we saw before. First define the input of the model with the Input() method describing the shape of the input(shape=(12)), next we say that it's a Dense layer with 8 neurons and receives the input, following by the declaration of it's activation function, in this case LeakyRelu activation, we stack layers until we reach the output activation layer, then we call the Model() function that takes as inputs two layers (input and output) and this model will include all layers required in the computation of output given input. This problem is a multiclass classification problem so we must need 3 neurons on the output layer (one for each class) with softmax activation. Also because we have few data on this data set, as a way of reducing the possibility of overffiting our data we will use a smaller model than usual with only one layer with 8 neurons before the output layer."
   ]
  },
  {
   "cell_type": "code",
   "execution_count": 32,
   "metadata": {},
   "outputs": [],
   "source": [
    "def create_model_functional():\n",
    "    inputs =Input(shape=(12))\n",
    "    layer = Dense(8)(inputs)\n",
    "    layer = Activation(LeakyReLU())(layer)\n",
    "    layer = Dense(3)(layer)\n",
    "    layer = Activation(\"softmax\")(layer)\n",
    "    return Model(inputs=inputs, outputs=layer)"
   ]
  },
  {
   "cell_type": "markdown",
   "metadata": {},
   "source": [
    "We will establish our batch size, epoch number and optimizer as 10, 50 and Adam optimizer respectevly. Next,as with the sequential API we configure our model for training, using the compile function and choose our loss function, in this case as we are intending to solve a multiclass classification problem we are going to use categorical_crossentropy which computes the categorical crossentropy loss.\n",
    "We fit our data to our model, and therefore starting training.\n",
    "\n",
    "This time we will be using early stopping using Keras API rather than testing and seeing were the error curve stagnates, we can do this by selecting which value to monitor and a number of epochs that if after that there is no significant improvement we will stop training, we will set it to 5 epochs"
   ]
  },
  {
   "cell_type": "code",
   "execution_count": 33,
   "metadata": {},
   "outputs": [
    {
     "name": "stdout",
     "output_type": "stream",
     "text": [
      "Training error: 0.5044061112403869\n",
      "Validation error: 0.6038432170947393\n",
      "Validation Accuracy: 0.8055555820465088\n"
     ]
    }
   ],
   "source": [
    "batch_size = 10\n",
    "epochs = 50\n",
    "\n",
    "opt = Adam()\n",
    "\n",
    "model = create_model_functional()\n",
    "\n",
    "early_stop= keras.callbacks.EarlyStopping(monitor='val_loss', patience=5)\n",
    "\n",
    "model.compile(loss=\"categorical_crossentropy\", optimizer=opt, metrics=[\"accuracy\"])\n",
    "\n",
    "history = model.fit(xTrain, yTrain, validation_data=(xValid, yValid), batch_size=batch_size, epochs=epochs,verbose=0, callbacks=[early_stop])\n",
    "\n",
    "print('Training error: {}'.format(history.history['loss'][-1]))\n",
    "print('Validation error: {}'.format(history.history['val_loss'][-1]))\n",
    "print('Validation Accuracy: {}'.format(history.history['val_accuracy'][-1]))"
   ]
  },
  {
   "cell_type": "code",
   "execution_count": 34,
   "metadata": {},
   "outputs": [
    {
     "data": {
      "image/png": "[encoded data removed]",
      "text/plain": [
       "<Figure size 432x288 with 1 Axes>"
      ]
     },
     "metadata": {
      "needs_background": "light"
     },
     "output_type": "display_data"
    },
    {
     "data": {
      "image/png": "[encoded data removed]",
      "text/plain": [
       "<Figure size 432x288 with 1 Axes>"
      ]
     },
     "metadata": {
      "needs_background": "light"
     },
     "output_type": "display_data"
    }
   ],
   "source": [
    "plt.plot(history.history['loss'])\n",
    "plt.plot(history.history['val_loss'])\n",
    "plt.title('Model loss')\n",
    "plt.ylabel('Loss')\n",
    "plt.xlabel('Epoch')\n",
    "plt.legend(['Train', 'Validation'], loc='upper right')\n",
    "plt.show()\n",
    "\n",
    "plt.plot(history.history['accuracy'])\n",
    "plt.plot(history.history['val_accuracy'])\n",
    "plt.title('Model accuracy')\n",
    "plt.ylabel('Accuracy')\n",
    "plt.xlabel('Epoch')\n",
    "plt.legend(['Train', 'Validation'], loc='upper right')\n",
    "plt.show()"
   ]
  },
  {
   "cell_type": "code",
   "execution_count": 35,
   "metadata": {},
   "outputs": [
    {
     "name": "stdout",
     "output_type": "stream",
     "text": [
      "17/17 - 0s - loss: 0.5399 - accuracy: 0.8235\n"
     ]
    }
   ],
   "source": [
    "history = model.evaluate(xTest, yTest, batch_size=batch_size,verbose=2)"
   ]
  },
  {
   "cell_type": "markdown",
   "metadata": {},
   "source": [
    "As we can see from the data inspite the lack of data we can still get a good accuracy rate from this model as it correctly predicted 14 examples out of 17 (~82%), something that with more data or a different combination of neurons could improve"
   ]
  }
 ],
 "metadata": {
  "kernelspec": {
   "display_name": "Python 3",
   "language": "python",
   "name": "python3"
  },
  "language_info": {
   "codemirror_mode": {
    "name": "ipython",
    "version": 3
   },
   "file_extension": ".py",
   "mimetype": "text/x-python",
   "name": "python",
   "nbconvert_exporter": "python",
   "pygments_lexer": "ipython3",
   "version": "3.8.11"
  }
 },
 "nbformat": 4,
 "nbformat_minor": 4
}
